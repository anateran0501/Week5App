{
  "nbformat": 4,
  "nbformat_minor": 0,
  "metadata": {
    "colab": {
      "provenance": []
    },
    "kernelspec": {
      "name": "python3",
      "display_name": "Python 3"
    },
    "language_info": {
      "name": "python"
    }
  },
  "cells": [
    {
      "cell_type": "code",
      "execution_count": 24,
      "metadata": {
        "id": "gSVyVh30Sjsz"
      },
      "outputs": [],
      "source": [
        "import pandas as pd\n",
        "import numpy as np"
      ]
    },
    {
      "cell_type": "code",
      "source": [
        "# Set random seed for reproducibility\n",
        "np.random.seed(42)"
      ],
      "metadata": {
        "id": "8LweIul5SmbV"
      },
      "execution_count": 25,
      "outputs": []
    },
    {
      "cell_type": "code",
      "source": [
        "# Parameters\n",
        "num_players = 1000\n",
        "levels = 10\n",
        "actions = ['play', 'quit', 'restart', 'level_up', 'get_help']\n",
        "difficulty_levels = ['easy', 'medium', 'hard']"
      ],
      "metadata": {
        "id": "iwOwY3GHSmdZ"
      },
      "execution_count": 26,
      "outputs": []
    },
    {
      "cell_type": "code",
      "source": [
        "# Generate synthetic player data\n",
        "data = {\n",
        "    'player_id': np.arange(1, num_players + 1),\n",
        "    'level_completed': np.random.randint(1, levels + 1, num_players),\n",
        "    'time_spent': np.random.randint(1, 301, num_players),  # time in seconds\n",
        "    'actions_taken': np.random.choice(actions, num_players),\n",
        "    'difficulty': np.random.randint(1, 7, num_players),  # difficulty now ranges from 1 to 6,\n",
        "    #'score': np.random.randint(0, 1001, num_players),\n",
        "    'last_level_attempts': np.random.randint(1, 11, num_players),  # number of attempts (1 to 10)\n",
        "\n",
        "}"
      ],
      "metadata": {
        "id": "AuVYMdUVSmgJ"
      },
      "execution_count": 27,
      "outputs": []
    },
    {
      "cell_type": "code",
      "source": [
        "# Create DataFrame\n",
        "df = pd.DataFrame(data)\n",
        "\n",
        "# Calculate average time spent per level achieved\n",
        "df['average_level_time'] = df['time_spent'] / df['level_completed']\n",
        "\n",
        "# Assign last_level_cleared: 1 if max level is completed, 0 otherwise\n",
        "df['last_level_cleared'] = np.where(df['level_completed'] == levels, 1, 0)\n",
        "\n",
        "# Calculate score based on the new formula\n",
        "df['score'] = (50 * df['level_completed']) + (2 * df['difficulty'])"
      ],
      "metadata": {
        "id": "AJutBBfvSmid"
      },
      "execution_count": 28,
      "outputs": []
    },
    {
      "cell_type": "code",
      "source": [
        "# Save synthetic dataset to CSV\n",
        "df.to_csv('synthetic_game_data.csv', index=False)\n",
        "\n",
        "print(\"Synthetic dataset created successfully!\")"
      ],
      "metadata": {
        "colab": {
          "base_uri": "https://localhost:8080/"
        },
        "id": "NrXDQr_SSmmA",
        "outputId": "72f0c6e6-8efc-40d1-8950-9dac8f8ca660"
      },
      "execution_count": 29,
      "outputs": [
        {
          "output_type": "stream",
          "name": "stdout",
          "text": [
            "Synthetic dataset created successfully!\n"
          ]
        }
      ]
    },
    {
      "cell_type": "code",
      "source": [
        "import pandas as pd\n",
        "import numpy as np\n",
        "from sklearn.model_selection import train_test_split\n",
        "from sklearn.linear_model import LinearRegression\n",
        "from sklearn.tree import DecisionTreeRegressor\n",
        "from sklearn.ensemble import RandomForestRegressor\n",
        "from sklearn.svm import SVR\n",
        "from sklearn.metrics import mean_squared_error, r2_score"
      ],
      "metadata": {
        "id": "-lC3vOwRjLcr"
      },
      "execution_count": 30,
      "outputs": []
    },
    {
      "cell_type": "code",
      "source": [
        "# Load the dataset\n",
        "df = pd.read_csv('synthetic_game_data.csv')\n"
      ],
      "metadata": {
        "id": "w5ZlC85pjLfJ"
      },
      "execution_count": 31,
      "outputs": []
    },
    {
      "cell_type": "code",
      "source": [
        "# Feature engineering for Next Level recommendations\n",
        "def recommend_nlod(row):\n",
        "    if row['last_level_attempts'] > 5 and row['last_level_cleared'] == 0:\n",
        "        new_difficulty = max(1, row['difficulty'] - 1)  # Lower difficulty level\n",
        "        new_level = row['level_completed']  # Stay on the same level\n",
        "    elif row['last_level_cleared'] == 1:\n",
        "        new_difficulty = min(6, row['difficulty'] + 1)  # Next level difficulty\n",
        "        new_level = row['level_completed'] + 1  # Suggest next level\n",
        "    else:\n",
        "        new_difficulty = row['difficulty']  # Same difficulty\n",
        "        new_level = row['level_completed']  # Stay on the same level\n",
        "\n",
        "    return new_level, new_difficulty\n"
      ],
      "metadata": {
        "id": "GT9RGc_CjLj1"
      },
      "execution_count": 32,
      "outputs": []
    },
    {
      "cell_type": "code",
      "source": [
        "# Apply the recommendation logic\n",
        "df[['Next_level', 'NLOD']] = df.apply(recommend_nlod, axis=1, result_type='expand')"
      ],
      "metadata": {
        "id": "6wZ5YTecjLnZ"
      },
      "execution_count": 33,
      "outputs": []
    },
    {
      "cell_type": "code",
      "source": [
        "0# Prepare features and target variable\n",
        "X = df[['last_level_attempts', 'last_level_cleared', 'difficulty']]\n",
        "y = df['NLOD']"
      ],
      "metadata": {
        "id": "EAV-ANAqkwLz"
      },
      "execution_count": 34,
      "outputs": []
    },
    {
      "cell_type": "code",
      "source": [],
      "metadata": {
        "id": "MOALh6qmrDxG"
      },
      "execution_count": 34,
      "outputs": []
    },
    {
      "cell_type": "code",
      "source": [
        "# Split the data into training and testing sets\n",
        "X_train, X_test, y_train, y_test = train_test_split(X, y, test_size=0.2, random_state=42)"
      ],
      "metadata": {
        "id": "YdQm_4ItjLqA"
      },
      "execution_count": 35,
      "outputs": []
    },
    {
      "cell_type": "code",
      "source": [],
      "metadata": {
        "id": "vA7-7Cg-rBof"
      },
      "execution_count": 35,
      "outputs": []
    },
    {
      "cell_type": "code",
      "source": [
        "# Initialize the models\n",
        "models = {\n",
        "    'Linear Regression': LinearRegression(),\n",
        "    'Decision Tree': DecisionTreeRegressor(),\n",
        "    'Random Forest': RandomForestRegressor(),\n",
        "    'Support Vector Regression': SVR()\n",
        "}"
      ],
      "metadata": {
        "id": "aZEFG2NUjUN6"
      },
      "execution_count": 36,
      "outputs": []
    },
    {
      "cell_type": "code",
      "source": [
        "# Train and evaluate each model\n",
        "for name, model in models.items():\n",
        "    model.fit(X_train, y_train)\n",
        "    y_pred = model.predict(X_test)\n",
        "\n",
        "    # Evaluation\n",
        "    mse = mean_squared_error(y_test, y_pred)\n",
        "    r2 = r2_score(y_test, y_pred)\n",
        "\n",
        "    # Calculate accuracy\n",
        "    accuracy = model.score(X_test, y_test)  # R² score as a measure of accuracy\n",
        "\n",
        "    print(f\"{name} - Accuracy: {accuracy:.2f}\")"
      ],
      "metadata": {
        "colab": {
          "base_uri": "https://localhost:8080/"
        },
        "id": "XaTEJ5Rwk5Pp",
        "outputId": "917c5723-020d-4a38-8455-119b89040453"
      },
      "execution_count": 37,
      "outputs": [
        {
          "output_type": "stream",
          "name": "stdout",
          "text": [
            "Linear Regression - Accuracy: 0.96\n",
            "Decision Tree - Accuracy: 1.00\n",
            "Random Forest - Accuracy: 1.00\n",
            "Support Vector Regression - Accuracy: 0.99\n"
          ]
        }
      ]
    },
    {
      "cell_type": "code",
      "source": [
        "import joblib\n",
        "\n",
        "# Save each model\n",
        "joblib.dump(models['Linear Regression'], 'Linear_Regression.pkl')\n",
        "joblib.dump(models['Decision Tree'], 'Decision_Tree.pkl')\n",
        "joblib.dump(models['Random Forest'], 'Random_Forest.pkl')\n",
        "joblib.dump(models['Support Vector Regression'], 'SVR.pkl')\n",
        "\n",
        "print(\"Models saved successfully!\")"
      ],
      "metadata": {
        "colab": {
          "base_uri": "https://localhost:8080/"
        },
        "id": "3N8-Ad6wARSq",
        "outputId": "db19f169-c67c-4d0d-e0ea-62e483f9dcac"
      },
      "execution_count": 38,
      "outputs": [
        {
          "output_type": "stream",
          "name": "stdout",
          "text": [
            "Models saved successfully!\n"
          ]
        }
      ]
    },
    {
      "cell_type": "code",
      "source": [
        "# Save the updated dataset with Next Level recommendations\n",
        "df.to_csv('synthetic_game_data_with_nlod.csv', index=False)\n",
        "\n",
        "print(\"NLOD recommendations added, models evaluated, and final dataset saved successfully!\")"
      ],
      "metadata": {
        "colab": {
          "base_uri": "https://localhost:8080/"
        },
        "id": "qHyVtp89k5SS",
        "outputId": "e56cc9b7-92a4-4016-dd75-a4fecbaf3407"
      },
      "execution_count": 39,
      "outputs": [
        {
          "output_type": "stream",
          "name": "stdout",
          "text": [
            "NLOD recommendations added, models evaluated, and final dataset saved successfully!\n"
          ]
        }
      ]
    }
  ]
}